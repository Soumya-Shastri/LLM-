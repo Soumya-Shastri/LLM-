{
  "nbformat": 4,
  "nbformat_minor": 0,
  "metadata": {
    "colab": {
      "provenance": []
    },
    "kernelspec": {
      "name": "python3",
      "display_name": "Python 3"
    },
    "language_info": {
      "name": "python"
    }
  },
  "cells": [
    {
      "cell_type": "markdown",
      "source": [
        "## **CREATING TOKENS**"
      ],
      "metadata": {
        "id": "BTUQj69Ct0Ss"
      }
    },
    {
      "cell_type": "code",
      "source": [
        "with open(\"the-verdict.txt\", \"r\", encoding =\"utf-8\") as f:\n",
        "  raw_text = f.read()\n",
        "print(\"Total number of characters:\", len(raw_text))\n",
        "print(raw_text[:99])"
      ],
      "metadata": {
        "id": "Rh3MmLbds1j6",
        "colab": {
          "base_uri": "https://localhost:8080/"
        },
        "outputId": "1dad70ed-9d15-4925-f10f-c40d17a07a52"
      },
      "execution_count": 4,
      "outputs": [
        {
          "output_type": "stream",
          "name": "stdout",
          "text": [
            "Total number of characters: 20479\n",
            "I HAD always thought Jack Gisburn rather a cheap genius--though a good fellow enough--so it was no \n"
          ]
        }
      ]
    },
    {
      "cell_type": "code",
      "source": [
        "import re\n",
        "sent = \"Hello, I am waiting for my turn since morning.\"\n",
        "res = re.split(r'(\\s)', sent)\n",
        "print(res)"
      ],
      "metadata": {
        "colab": {
          "base_uri": "https://localhost:8080/"
        },
        "id": "qBwtU-Lzs1l1",
        "outputId": "362adc38-7fbb-4dad-fe56-df6ff50be256"
      },
      "execution_count": 5,
      "outputs": [
        {
          "output_type": "stream",
          "name": "stdout",
          "text": [
            "['Hello,', ' ', 'I', ' ', 'am', ' ', 'waiting', ' ', 'for', ' ', 'my', ' ', 'turn', ' ', 'since', ' ', 'morning.']\n"
          ]
        }
      ]
    },
    {
      "cell_type": "code",
      "source": [
        "res = re.split(r'([,.] |\\s)', sent)\n",
        "print(res)"
      ],
      "metadata": {
        "colab": {
          "base_uri": "https://localhost:8080/"
        },
        "id": "K3ljPFSss1qY",
        "outputId": "b618192d-4c10-494a-95cc-24650c5958e6"
      },
      "execution_count": 6,
      "outputs": [
        {
          "output_type": "stream",
          "name": "stdout",
          "text": [
            "['Hello', ', ', 'I', ' ', 'am', ' ', 'waiting', ' ', 'for', ' ', 'my', ' ', 'turn', ' ', 'since', ' ', 'morning.']\n"
          ]
        }
      ]
    },
    {
      "cell_type": "code",
      "source": [
        "result = [i for i in res if i.strip()]\n",
        "print(result)"
      ],
      "metadata": {
        "id": "Ahce5ayqs1sN",
        "colab": {
          "base_uri": "https://localhost:8080/"
        },
        "outputId": "5f6b1b7e-dd59-44fd-a551-1bffc68e569d"
      },
      "execution_count": 7,
      "outputs": [
        {
          "output_type": "stream",
          "name": "stdout",
          "text": [
            "['Hello', ', ', 'I', 'am', 'waiting', 'for', 'my', 'turn', 'since', 'morning.']\n"
          ]
        }
      ]
    },
    {
      "cell_type": "markdown",
      "source": [
        "# **Removing whitepaces**"
      ],
      "metadata": {
        "id": "0oqtr-5pHIy0"
      }
    },
    {
      "cell_type": "code",
      "source": [
        "sentence  = \" Wonderful ! , you have made a   beautiful picture -- . Could you make it for me ? \"\n",
        "\n",
        "res_re = re.split(r'([,.\"!?;:\\'_()[]{}]|--|\\s)', sentence )\n",
        "res_y = [item.strip() for item in res_re if item.strip()]\n",
        "print(res_y)"
      ],
      "metadata": {
        "id": "Zo4xXC95s1wQ",
        "colab": {
          "base_uri": "https://localhost:8080/"
        },
        "outputId": "1644e620-fadf-4951-e571-31328dc9ab73"
      },
      "execution_count": 8,
      "outputs": [
        {
          "output_type": "stream",
          "name": "stdout",
          "text": [
            "['Wonderful', '!', ',', 'you', 'have', 'made', 'a', 'beautiful', 'picture', '--', '.', 'Could', 'you', 'make', 'it', 'for', 'me', '?']\n"
          ]
        }
      ]
    },
    {
      "cell_type": "markdown",
      "source": [
        "# **Applying this method to the entire \"the-verdict\"**"
      ],
      "metadata": {
        "id": "xoz3Z4SFLbwV"
      }
    },
    {
      "cell_type": "code",
      "source": [
        "preprocessed = re.split(r'([,.\"!?;:\\'_()[]{}]|\\(|\\)|--|\\s)', raw_text)\n",
        "res_pre = [item.strip() for item in preprocessed if item.strip()]\n",
        "print(res_pre[:200])"
      ],
      "metadata": {
        "id": "dFaXR0Q8s12C",
        "colab": {
          "base_uri": "https://localhost:8080/"
        },
        "outputId": "371023da-8ee1-4e57-ebcf-d68cbb14c2fd"
      },
      "execution_count": 9,
      "outputs": [
        {
          "output_type": "stream",
          "name": "stdout",
          "text": [
            "['I', 'HAD', 'always', 'thought', 'Jack', 'Gisburn', 'rather', 'a', 'cheap', 'genius', '--', 'though', 'a', 'good', 'fellow', 'enough', '--', 'so', 'it', 'was', 'no', 'great', 'surprise', 'to', 'me', 'to', 'hear', 'that,', 'in', 'the', 'height', 'of', 'his', 'glory,', 'he', 'had', 'dropped', 'his', 'painting,', 'married', 'a', 'rich', 'widow,', 'and', 'established', 'himself', 'in', 'a', 'villa', 'on', 'the', 'Riviera.', '(', 'Though', 'I', 'rather', 'thought', 'it', 'would', 'have', 'been', 'Rome', 'or', 'Florence.', ')', '\"The', 'height', 'of', 'his', 'glory\"', '--', 'that', 'was', 'what', 'the', 'women', 'called', 'it.', 'I', 'can', 'hear', 'Mrs.', 'Gideon', 'Thwing', '--', 'his', 'last', 'Chicago', 'sitter', '--', 'deploring', 'his', 'unaccountable', 'abdication.', '\"Of', 'course', \"it's\", 'going', 'to', 'send', 'the', 'value', 'of', 'my', 'picture', \"'way\", 'up;', 'but', 'I', \"don't\", 'think', 'of', 'that,', 'Mr.', 'Rickham', '--', 'the', 'loss', 'to', 'Arrt', 'is', 'all', 'I', 'think', 'of.\"', 'The', 'word,', 'on', 'Mrs.', \"Thwing's\", 'lips,', 'multiplied', 'its', '_rs_', 'as', 'though', 'they', 'were', 'reflected', 'in', 'an', 'endless', 'vista', 'of', 'mirrors.', 'And', 'it', 'was', 'not', 'only', 'the', 'Mrs.', 'Thwings', 'who', 'mourned.', 'Had', 'not', 'the', 'exquisite', 'Hermia', 'Croft,', 'at', 'the', 'last', 'Grafton', 'Gallery', 'show,', 'stopped', 'me', 'before', \"Gisburn's\", '\"Moon-dancers\"', 'to', 'say,', 'with', 'tears', 'in', 'her', 'eyes:', '\"We', 'shall', 'not', 'look', 'upon', 'its', 'like', 'again\"?', 'Well!', '--', 'even', 'through', 'the', 'prism', 'of', \"Hermia's\", 'tears', 'I', 'felt', 'able', 'to']\n"
          ]
        }
      ]
    },
    {
      "cell_type": "code",
      "source": [
        "print(len(res_pre))"
      ],
      "metadata": {
        "id": "pnxecTlWs13v",
        "colab": {
          "base_uri": "https://localhost:8080/"
        },
        "outputId": "9d95cee1-4e10-47e1-d8da-13f750af4dc0"
      },
      "execution_count": 10,
      "outputs": [
        {
          "output_type": "stream",
          "name": "stdout",
          "text": [
            "3834\n"
          ]
        }
      ]
    },
    {
      "cell_type": "markdown",
      "source": [
        "# **Creating Token IDs**"
      ],
      "metadata": {
        "id": "AhBFHpqg0Bs8"
      }
    },
    {
      "cell_type": "markdown",
      "source": [
        "### **Creating a list of unique tokens & sorting them alphabetically to determine vocabulary size**"
      ],
      "metadata": {
        "id": "futxc1L50InN"
      }
    },
    {
      "cell_type": "code",
      "source": [
        "words = sorted(set(res_pre))\n",
        "print(len(words))"
      ],
      "metadata": {
        "id": "SV0SCA1Vs2Bc",
        "colab": {
          "base_uri": "https://localhost:8080/"
        },
        "outputId": "792aa247-c56e-4566-af50-acefc2e3683a"
      },
      "execution_count": 11,
      "outputs": [
        {
          "output_type": "stream",
          "name": "stdout",
          "text": [
            "1435\n"
          ]
        }
      ]
    },
    {
      "cell_type": "code",
      "source": [
        "vocab = {i:index for index , i in enumerate(words)}\n",
        "print(vocab)"
      ],
      "metadata": {
        "colab": {
          "base_uri": "https://localhost:8080/"
        },
        "id": "hK8_Z_Wp0qT5",
        "outputId": "5b7d8f57-54c5-4b57-b10e-23b9e48c9404"
      },
      "execution_count": 12,
      "outputs": [
        {
          "output_type": "stream",
          "name": "stdout",
          "text": [
            "{'\"': 0, '\"Ah': 1, '\"Ah,': 2, '\"Be': 3, '\"Begin': 4, '\"By': 5, '\"Come': 6, '\"Destroyed': 7, '\"Don\\'t': 8, '\"Gisburns\"': 9, '\"Grindles.\"': 10, '\"Hang': 11, '\"Has': 12, '\"How': 13, '\"I': 14, '\"I\\'d': 15, '\"If': 16, '\"It': 17, '\"It\\'s': 18, '\"Jack': 19, '\"Money\\'s': 20, '\"Moon-dancers\"': 21, '\"Mr.': 22, '\"Mrs.': 23, '\"My': 24, '\"Never': 25, '\"Never,\"': 26, '\"Of': 27, '\"Oh,': 28, '\"Once,': 29, '\"Only': 30, '\"Or': 31, '\"That': 32, '\"The': 33, '\"Then': 34, '\"There': 35, '\"There:': 36, '\"This': 37, '\"We': 38, '\"Well,': 39, '\"What': 40, '\"When': 41, '\"Why': 42, '\"Yes': 43, '\"Yes,': 44, '\"You': 45, '\"but': 46, '\"deadening': 47, '\"dragged': 48, '\"effects\";': 49, '\"interesting\":': 50, '\"lift': 51, '\"obituary\"': 52, '\"strongest,\"': 53, '\"strongly\"': 54, '\"sweetly\"': 55, \"'Are\": 56, \"'It's\": 57, \"'coming'\": 58, \"'done'\": 59, \"'subject.'\": 60, \"'technique'\": 61, \"'way\": 62, '(': 63, ')': 64, '--': 65, '.': 66, '.\"': 67, 'A': 68, 'Among': 69, 'And': 70, 'And,': 71, 'Arrt': 72, 'As': 73, 'At': 74, 'Burlington': 75, 'But': 76, 'But,': 77, 'By': 78, 'Carlo,': 79, 'Carlo;': 80, 'Chicago': 81, 'Claude': 82, 'Croft': 83, 'Croft,': 84, 'Devonshire': 85, \"Don't\": 86, 'Dubarry_': 87, 'Emperors': 88, 'Florence.': 89, 'For': 90, 'Gallery': 91, 'Gideon': 92, 'Gisburn': 93, 'Gisburn!': 94, \"Gisburn's\": 95, 'Gisburn,': 96, 'Grafton': 97, 'Greek': 98, 'Grindle': 99, \"Grindle's\": 100, 'Grindle,\"': 101, 'Grindle.': 102, 'Grindle:': 103, 'HAD': 104, 'Had': 105, 'He': 106, 'Her': 107, 'Hermia': 108, \"Hermia's\": 109, 'His': 110, 'I': 111, \"I'd\": 112, \"I'll\": 113, \"I've\": 114, 'If': 115, 'In': 116, 'It': 117, 'Jack': 118, 'Jack!': 119, \"Jack's\": 120, 'Jack,': 121, 'Jove': 122, 'Jove!\"': 123, 'Jove,': 124, 'Just': 125, 'Lord': 126, 'Made': 127, 'Miss': 128, 'Monte': 129, 'Mr.': 130, 'Mrs.': 131, 'My': 132, 'No': 133, 'Now': 134, 'Nutley,': 135, 'Of': 136, 'On': 137, 'Only': 138, 'Only,': 139, 'Perhaps.': 140, 'Poor': 141, 'Professional': 142, 'Renaissance': 143, 'Rickham': 144, 'Rickham!': 145, 'Rickham,': 146, 'Rickham;': 147, 'Riviera': 148, 'Riviera,': 149, 'Riviera.': 150, 'Rome': 151, 'Russian': 152, 'Sevres': 153, 'She': 154, \"She's\": 155, 'Stroud': 156, 'Stroud!': 157, 'Stroud!\"': 158, \"Stroud's\": 159, 'Stroud.': 160, 'Strouds': 161, 'Strouds.': 162, 'Suddenly': 163, 'That': 164, \"That's\": 165, 'The': 166, 'Then': 167, 'There': 168, 'They': 169, 'Those': 170, 'Though': 171, 'Thwing': 172, \"Thwing's\": 173, 'Thwings': 174, 'To': 175, 'Usually': 176, 'Venetian': 177, 'Victor': 178, 'Was': 179, 'Well': 180, 'Well!': 181, 'Well,': 182, 'What': 183, 'When': 184, 'Why,': 185, 'Yes': 186, 'Yes,': 187, 'You': 188, 'You?\"': 189, '_I': 190, '_am_': 191, '_famille-verte_': 192, '_felt_': 193, '_has_': 194, '_have_': 195, '_jardiniere_': 196, '_mine_': 197, '_not_': 198, '_rose': 199, '_rs_': 200, '_that_': 201, '_the_': 202, '_was_': 203, '_were_': 204, 'a': 205, 'abdication.': 206, 'able': 207, 'about': 208, 'about;': 209, 'above': 210, 'abruptly.': 211, 'absolute': 212, 'absorbed': 213, 'absurdity': 214, 'absurdity.': 215, 'academic': 216, 'accuse': 217, 'accustomed': 218, 'across': 219, 'activity.': 220, 'add,': 221, 'added': 222, 'admirers': 223, 'adopted': 224, 'adulation.': 225, 'advance,': 226, 'aesthetic': 227, 'affect': 228, 'afraid': 229, 'after': 230, 'after.': 231, 'afterward': 232, 'again': 233, 'again\"?': 234, 'again,': 235, 'again.': 236, 'again?\"': 237, 'ago,\"': 238, 'ah,': 239, 'air': 240, 'alive': 241, 'alive.': 242, 'all': 243, 'all,': 244, 'almost': 245, 'alone': 246, 'alone,': 247, 'along': 248, 'always': 249, 'amazement': 250, 'amid': 251, 'among': 252, 'amplest': 253, 'amusing': 254, 'an': 255, 'and': 256, 'and,': 257, 'another': 258, 'answer': 259, 'answered': 260, 'any': 261, 'anything': 262, 'anywhere': 263, 'apparent': 264, 'apparently': 265, 'appearance': 266, 'appeared': 267, 'appointed': 268, 'are': 269, 'arm': 270, 'arm-chair': 271, 'arm-chairs': 272, 'arms': 273, 'art': 274, 'art,': 275, 'art.\"': 276, 'articles': 277, 'artist': 278, 'as': 279, 'aside': 280, 'asked': 281, 'asked,': 282, 'at': 283, 'atmosphere': 284, 'atom': 285, 'attack.': 286, 'attention': 287, 'attention;': 288, 'attitude': 289, 'audacities,': 290, 'away': 291, 'away,': 292, 'awful': 293, 'axioms': 294, 'azaleas,': 295, 'back': 296, 'background': 297, 'balance': 298, 'balancing,': 299, 'balustraded': 300, 'basking': 301, 'bath-rooms,': 302, 'be': 303, 'be.': 304, 'beaming': 305, 'bean-stalk.': 306, 'bear': 307, 'beard': 308, 'beard,': 309, 'beauty': 310, 'beauty.\"': 311, 'became': 312, 'because': 313, 'becoming': 314, 'bed.': 315, 'been': 316, 'been,': 317, 'before': 318, 'before,': 319, 'began': 320, 'began,': 321, 'begun': 322, 'behind': 323, 'behind.': 324, 'being': 325, 'believed': 326, 'beneath': 327, 'bespoke': 328, 'better.': 329, 'better;': 330, 'between': 331, 'between.': 332, 'big': 333, 'bits': 334, 'bitterness,': 335, 'blocked': 336, 'born': 337, 'borne': 338, 'boudoir,': 339, 'bravura': 340, 'break': 341, 'breaking': 342, 'breathing': 343, 'bric-a-brac,': 344, 'briefly.': 345, 'brings': 346, 'bronzes': 347, 'brought': 348, 'brown': 349, 'brush': 350, 'brush.\"': 351, 'bull': 352, 'business': 353, 'but': 354, 'buying': 355, 'by': 356, 'called': 357, 'came': 358, 'can': 359, 'can?': 360, 'canvas': 361, 'canvases,': 362, 'cards.': 363, 'care': 364, 'career': 365, 'caught': 366, 'central': 367, 'chair,': 368, 'chap,': 369, 'characteristic': 370, 'charming,': 371, 'cheap': 372, 'check.': 373, 'cheeks': 374, 'chest': 375, 'chimney-piece.': 376, 'chucked': 377, 'cigar': 378, 'cigarette': 379, 'cigars': 380, 'circulation,\"': 381, 'circumstance': 382, \"circus-clown's\": 383, 'claimed': 384, 'clasping': 385, 'clear': 386, 'cleverer': 387, 'close': 388, 'clue': 389, 'coat,': 390, 'collapsed': 391, 'colour': 392, 'come': 393, 'comfortable': 394, 'coming': 395, 'companion': 396, 'compared': 397, 'complex': 398, 'confident': 399, 'congesting': 400, 'conjugal': 401, 'constraint': 402, 'consummate': 403, 'contended,': 404, 'continued': 405, 'corner': 406, 'corrected': 407, 'could': 408, \"couldn't\": 409, 'count,': 410, 'countenance.': 411, 'couple': 412, 'course': 413, 'course,': 414, 'covered': 415, 'craft': 416, 'cried.': 417, 'crossed': 418, 'crowned': 419, 'crumbled.': 420, 'cry': 421, 'cured': 422, 'curiosity': 423, 'curious': 424, 'current': 425, 'curtains': 426, 'curtains,': 427, 'dabble': 428, 'damask': 429, 'dark': 430, 'dashed': 431, 'day,': 432, 'day.': 433, 'day.\"': 434, 'days': 435, 'days,': 436, 'dead': 437, 'dead.\"': 438, 'dead?': 439, 'dear': 440, 'dear,': 441, 'deep': 442, \"deerhound's\": 443, 'degree': 444, 'delicate': 445, 'demand': 446, 'denied': 447, 'deploring': 448, 'deprecating': 449, 'deprecatingly,': 450, 'desire': 451, 'destroyed': 452, 'destruction': 453, 'desultory': 454, 'detail.': 455, 'diagnosis': 456, 'did': 457, 'did.': 458, \"didn't\": 459, 'died': 460, 'dim,': 461, 'dimmest': 462, 'dingy.': 463, 'dining-room.': 464, 'disarming,': 465, 'discovery;': 466, 'discrimination': 467, 'discussion': 468, 'disdain': 469, 'disdained': 470, 'disease,': 471, 'disguised': 472, 'display': 473, 'dissatisfied': 474, 'distinguished': 475, 'distract': 476, 'divert': 477, 'do': 478, \"doesn't\": 479, 'doing': 480, 'domestic': 481, \"don't\": 482, 'done': 483, 'donkey': 484, 'donkey,': 485, 'donkey.': 486, 'down': 487, 'down,': 488, 'down.\"': 489, 'dozen': 490, 'dragged': 491, 'drawing-room,': 492, 'drawing-rooms': 493, 'drawn': 494, 'dress-closets,': 495, 'drew': 496, 'dropped': 497, 'each': 498, 'earth': 499, 'ease': 500, 'easel': 501, 'easel.': 502, 'easy': 503, 'echoed': 504, 'economy.': 505, 'effect': 506, 'efforts': 507, 'egregious': 508, 'eighteenth-century': 509, 'elbow': 510, 'elegant': 511, 'else,': 512, 'else.': 513, 'embarrassed': 514, 'enabled': 515, 'end': 516, 'endless': 517, 'enjoy': 518, 'enlightenment:': 519, 'enough': 520, 'enough,': 521, 'ensuing': 522, 'equally,': 523, 'equanimity.': 524, 'escape': 525, 'established': 526, 'etching?\"': 527, 'even': 528, 'event': 529, 'ever': 530, 'everlasting': 531, 'every': 532, 'exasperated': 533, 'except': 534, 'excuse': 535, 'excusing': 536, 'existed': 537, 'expected': 538, 'exquisite': 539, 'exquisitely': 540, 'extenuation.': 541, 'exterminating': 542, 'extracting': 543, 'eye': 544, 'eyebrows': 545, 'eyes': 546, 'eyes.': 547, 'eyes:': 548, 'face': 549, 'face,': 550, 'faces.': 551, 'fact': 552, 'fact,': 553, 'faded': 554, 'failed': 555, 'failure': 556, 'failure,': 557, 'fair': 558, 'faith,': 559, 'false': 560, 'familiar': 561, 'fancy': 562, 'fashionable': 563, 'fate': 564, 'feather.': 565, 'feet,': 566, 'fell': 567, 'fellow': 568, 'felt': 569, 'few': 570, 'fewer': 571, 'finality': 572, 'find': 573, 'fingers': 574, 'first': 575, 'first,': 576, 'fit': 577, 'fitting': 578, 'five': 579, 'flash': 580, 'flashed': 581, 'florid': 582, 'flowers': 583, 'fluently,': 584, 'flung': 585, 'follow': 586, 'followed': 587, 'fond': 588, 'footstep': 589, 'for': 590, 'for,': 591, 'forced': 592, 'forcing': 593, 'forehead,': 594, 'foreign': 595, 'foreseen': 596, 'forgive': 597, 'forgotten': 598, 'form': 599, 'formed': 600, 'forming,': 601, 'forward.': 602, 'fostered': 603, 'found': 604, 'foundations': 605, 'foundations,': 606, 'foundations.': 607, 'fragment': 608, 'fragments.': 609, 'frame': 610, 'frame.': 611, 'frames.': 612, 'frequently.': 613, \"friend's\": 614, 'from': 615, 'full': 616, 'fullest': 617, 'furiously,': 618, 'furrowed': 619, 'garlanded': 620, 'garlands': 621, 'gave': 622, 'genial': 623, 'genius': 624, 'gesture,': 625, 'get': 626, 'getting': 627, 'give': 628, 'given': 629, 'glad': 630, 'glanced': 631, 'glimpse': 632, 'gloried': 633, 'glory': 634, 'glory\"': 635, 'glory,': 636, 'go': 637, 'going': 638, 'gone': 639, 'good': 640, 'good-breeding,': 641, 'good-humoured': 642, 'got': 643, 'grace': 644, 'gradually': 645, 'gray': 646, 'grayish': 647, 'great': 648, 'greatest': 649, 'greatness': 650, 'grew': 651, 'groping': 652, 'growing': 653, 'had': 654, \"hadn't\": 655, 'hair': 656, 'half': 657, 'half-light,': 658, 'half-mechanically': 659, 'hall,': 660, 'hand': 661, 'hand,': 662, 'hands': 663, 'handsome': 664, 'handsome,': 665, 'hanging': 666, 'happen': 667, 'happen.': 668, 'happened': 669, 'happened,\"': 670, 'happened?': 671, 'hard': 672, 'hardly': 673, 'have': 674, \"haven't\": 675, 'having': 676, 'having,': 677, 'he': 678, \"he'd\": 679, \"he's\": 680, 'head': 681, 'head,': 682, 'hear': 683, 'heard': 684, 'heard,': 685, 'heart': 686, 'height': 687, 'her': 688, 'her.': 689, 'here': 690, 'here;': 691, 'hermit.\"': 692, 'herself': 693, 'herself.': 694, 'hesitations': 695, 'hide': 696, 'high': 697, 'him': 698, 'him!': 699, 'him,': 700, 'him.': 701, 'him:': 702, 'himself': 703, 'himself,': 704, 'himself,\"': 705, 'hint': 706, 'his': 707, 'his!': 708, 'history.': 709, 'history?\"': 710, 'holding': 711, 'home': 712, 'honour': 713, 'hooded': 714, 'hostess': 715, 'hostess:': 716, 'hot-house': 717, 'hour.': 718, 'hours,': 719, 'house': 720, 'house.\"': 721, 'how': 722, \"how'?\": 723, 'how,': 724, 'hung': 725, 'husband': 726, \"husband's\": 727, 'husband,': 728, 'idea': 729, 'idle': 730, 'idling': 731, 'if': 732, 'immediately': 733, 'in': 734, 'incense.': 735, 'indifferent;': 736, 'inevitable': 737, 'inevitably': 738, 'inflexible': 739, 'insensible': 740, 'insignificant': 741, 'instinctively': 742, 'instinctively.': 743, 'instructive': 744, 'interesting': 745, 'into': 746, 'ironic': 747, 'irony': 748, 'irony.': 749, 'irrelevance': 750, 'irrevocable': 751, 'is': 752, 'is,': 753, 'it': 754, \"it's\": 755, 'it,': 756, 'it,\"': 757, 'it.': 758, 'it.\"': 759, 'it;': 760, 'it?\"': 761, 'its': 762, 'itself': 763, 'jealousy': 764, 'jealousy?': 765, 'just': 766, 'keep': 767, 'kept': 768, 'kind': 769, 'knees.': 770, 'knew': 771, 'knew.\"': 772, 'knew?': 773, 'know': 774, 'know,': 775, 'know,\"': 776, 'know.': 777, 'know.\"': 778, 'know;': 779, 'known_.': 780, 'laid': 781, 'lair,\"': 782, 'landing.': 783, 'language,': 784, 'last': 785, 'late': 786, 'later': 787, \"latter's\": 788, 'latter,': 789, 'laugh': 790, 'laugh.': 791, 'laugh:': 792, 'laughed': 793, 'lay': 794, 'leading': 795, 'lean': 796, 'learned': 797, 'least': 798, 'leathery:': 799, 'leave': 800, 'led': 801, 'left': 802, 'leisure!\"': 803, 'lends': 804, 'lent': 805, 'let': 806, 'lies!': 807, 'life': 808, 'life,': 809, 'life-likeness': 810, 'life.': 811, 'lift': 812, 'lifted': 813, 'light': 814, 'light.': 815, 'lightly;': 816, 'like': 817, 'like.\"': 818, 'liked': 819, 'line.': 820, 'lines': 821, 'lingered': 822, 'lips,': 823, 'lit': 824, 'little': 825, 'little:': 826, 'live': 827, 'loathing': 828, 'long': 829, 'longed': 830, 'longer': 831, 'look': 832, 'looked': 833, 'looking': 834, 'looking,\"': 835, 'lose': 836, 'loss': 837, 'lounging': 838, 'lovely': 839, 'lucky': 840, 'lump': 841, 'luncheon-table,': 842, 'luxury.': 843, 'lying': 844, 'made': 845, 'make': 846, 'man': 847, 'man,': 848, 'manage': 849, 'managed': 850, 'mantel-piece': 851, 'mantel-piece,': 852, 'marble': 853, 'married': 854, 'may': 855, 'me': 856, 'me!': 857, 'me!\"': 858, 'me,': 859, 'me.': 860, 'me.\"': 861, 'meant': 862, 'mediocrity\"': 863, 'medium': 864, 'mentioned': 865, 'mere': 866, 'merely': 867, 'met': 868, 'met,': 869, 'might': 870, 'mighty': 871, \"millionaire's\": 872, 'mine,': 873, 'mine:': 874, 'minute,': 875, 'minutes': 876, 'mirrors.': 877, 'modest': 878, 'modesty': 879, 'modesty,': 880, 'moment': 881, 'money': 882, 'monumental': 883, 'mood': 884, 'morbidly': 885, 'more': 886, 'more,': 887, 'more.': 888, 'more?\"': 889, 'most': 890, 'mourn': 891, 'mourned.': 892, 'moustache,': 893, 'moved': 894, 'moved,': 895, 'moved.': 896, 'much': 897, 'muddling;': 898, 'multiplied': 899, 'murmur.': 900, 'muscles,': 901, 'must': 902, 'my': 903, 'myself': 904, 'mysterious': 905, 'naive': 906, 'near': 907, 'nearly': 908, 'negatived': 909, 'nervous': 910, 'nervousness;': 911, 'neutral': 912, 'never': 913, 'next': 914, 'no': 915, 'none': 916, 'not': 917, 'note': 918, 'note!': 919, 'note.': 920, 'nothing': 921, 'now': 922, 'now,': 923, 'nymphs': 924, 'oak': 925, 'object': 926, 'objects': 927, 'objects,': 928, 'occurred': 929, 'oddly': 930, 'of': 931, 'of,': 932, 'of.\"': 933, 'off': 934, 'off?\"': 935, 'often,': 936, 'oh,': 937, 'old': 938, 'on': 939, 'once': 940, 'one': 941, 'one,\"': 942, 'ones': 943, 'only': 944, 'onto': 945, 'open': 946, 'or': 947, 'other': 948, 'our': 949, 'ourselves': 950, 'out': 951, 'out,': 952, 'out.': 953, 'out:': 954, \"out?'\": 955, 'outline': 956, 'oval': 957, 'over': 958, 'over!': 959, 'own': 960, 'packed': 961, 'paid': 962, 'paint': 963, 'paint.': 964, 'painted': 965, 'painted,': 966, 'painted;': 967, 'painter': 968, 'painter.\"': 969, 'painting': 970, 'painting,': 971, 'painting.': 972, 'painting;': 973, 'painting?\"': 974, 'pale': 975, 'paled': 976, 'palm-trees;': 977, 'panel': 978, 'panelling': 979, 'pardonable': 980, 'pardoned': 981, 'part,': 982, 'passages': 983, 'passing': 984, 'past': 985, 'past!': 986, 'pastels': 987, 'pathos': 988, 'patient': 989, 'people': 990, 'perceptible': 991, 'perfect': 992, 'persistence': 993, 'persuasively': 994, 'phrase': 995, 'picture': 996, 'picture.': 997, 'pictures': 998, 'pictures.': 999, 'pictures?': 1000, 'pines,': 1001, 'pink': 1002, 'place': 1003, 'placed': 1004, 'plain': 1005, 'platitudes': 1006, 'pleased': 1007, 'pockets': 1008, 'point': 1009, 'point.': 1010, 'poised': 1011, 'poor': 1012, 'portrait': 1013, 'portrait,': 1014, 'portrait.': 1015, 'posing': 1016, 'possessed': 1017, 'poverty.': 1018, 'predicted,': 1019, 'preliminary': 1020, 'presenting': 1021, 'prestidigitation': 1022, 'pretty': 1023, 'previous': 1024, 'price': 1025, 'pride.': 1026, 'pride:': 1027, 'princely,': 1028, 'prism': 1029, 'problem.': 1030, 'proclaiming': 1031, 'prodigious': 1032, 'profusion': 1033, 'protest,': 1034, 'prove': 1035, 'public,': 1036, 'public.': 1037, 'purblind': 1038, 'purely': 1039, 'pushed': 1040, 'put': 1041, 'qualities': 1042, 'quality': 1043, 'queerly': 1044, 'question': 1045, 'question:': 1046, 'quickly.': 1047, 'quietly': 1048, 'quite': 1049, 'quote': 1050, 'rain': 1051, 'raised': 1052, 'random': 1053, 'rather': 1054, 'real': 1055, 'really': 1056, 'reared': 1057, 'reason': 1058, 'reason.\"': 1059, 'reassurance.': 1060, 'recovering': 1061, 'recreated': 1062, 'reflected': 1063, 'reflection,': 1064, 'regrets': 1065, 'relatively': 1066, 'remained': 1067, 'remember': 1068, 'reminded': 1069, 'repeating': 1070, 'represented,': 1071, 'reproduction': 1072, 'resented': 1073, 'resolve': 1074, 'resources.': 1075, 'rest': 1076, 'rich': 1077, 'rich;': 1078, 'ridiculous': 1079, 'robbed': 1080, 'romantic!': 1081, 'room': 1082, 'room,': 1083, 'room.': 1084, 'rose': 1085, 'rule,': 1086, 'run': 1087, 'said': 1088, 'said,': 1089, 'said.': 1090, 'said:': 1091, 'same': 1092, 'satisfaction.': 1093, 'satisfaction:': 1094, 'savour?': 1095, 'saw': 1096, 'say': 1097, 'say,': 1098, 'say.': 1099, 'say:': 1100, 'saying': 1101, 'says': 1102, 'scorn': 1103, 'scornful': 1104, 'secret': 1105, 'secret,': 1106, 'secret?': 1107, 'see': 1108, 'seemed': 1109, 'seen': 1110, 'self-confident': 1111, 'send': 1112, 'sensation': 1113, 'sensitive': 1114, 'sent': 1115, 'serious': 1116, 'set': 1117, 'sex': 1118, 'shade': 1119, 'shaking': 1120, 'shall': 1121, 'she': 1122, \"she's\": 1123, 'shirked,': 1124, 'short,': 1125, 'should': 1126, 'shoulder': 1127, 'shoulders,': 1128, 'show': 1129, 'show,': 1130, 'showed': 1131, 'showy': 1132, 'showy!': 1133, 'shrug.': 1134, 'shrugged': 1135, 'sight': 1136, 'sign': 1137, 'silent;': 1138, 'silver': 1139, 'similar': 1140, 'simpleton,': 1141, 'simplifications': 1142, 'simply': 1143, 'simply.': 1144, 'since': 1145, 'single': 1146, 'sitter': 1147, 'sitters': 1148, 'sitters.': 1149, 'sketch': 1150, 'sketch,': 1151, 'skill,': 1152, 'slight': 1153, 'slightly,': 1154, 'slowly:': 1155, 'small': 1156, 'smile': 1157, 'smiling.': 1158, 'sneer,': 1159, 'so': 1160, 'so.': 1161, 'solace': 1162, 'some': 1163, 'somebody': 1164, 'something': 1165, 'spacious': 1166, 'spaniel': 1167, 'speaking-tubes,': 1168, 'speculations;': 1169, 'spite': 1170, 'splash': 1171, 'square': 1172, 'stairs': 1173, 'stammer': 1174, 'stand': 1175, 'standing': 1176, 'started': 1177, 'stay!': 1178, 'stay.\"': 1179, 'still': 1180, 'stocked': 1181, 'stood': 1182, 'stopped': 1183, 'stopping': 1184, 'straddling': 1185, 'straight': 1186, 'strain': 1187, 'straining,': 1188, 'strange': 1189, 'straw': 1190, 'stream,': 1191, 'stroke,': 1192, 'stroke.': 1193, 'strokes': 1194, 'strolled': 1195, 'struck': 1196, 'studio.': 1197, 'stuff': 1198, 'subject,': 1199, 'substantial': 1200, 'suburban': 1201, 'such': 1202, 'suddenly': 1203, 'suddenly,': 1204, 'suffered': 1205, 'sugar': 1206, 'suggested': 1207, 'sunburn.': 1208, 'sunburnt': 1209, 'sunlit': 1210, 'superb.': 1211, 'sure': 1212, 'surest': 1213, 'surface': 1214, 'surprise': 1215, 'surprise,': 1216, 'surprise.': 1217, 'surprised': 1218, 'surrounded': 1219, 'suspected': 1220, 'sweetness.': 1221, 'swelling': 1222, 'swept': 1223, 'swum': 1224, 'table': 1225, 'take': 1226, 'taken': 1227, 'taken.': 1228, 'talking': 1229, 'tea': 1230, 'tears': 1231, 'technicalities': 1232, 'tell': 1233, 'tells': 1234, 'tempting': 1235, 'terra-cotta': 1236, 'terrace': 1237, 'terrace.': 1238, 'terraces': 1239, 'terribly': 1240, 'than': 1241, 'that': 1242, 'that,': 1243, 'that.\"': 1244, 'the': 1245, 'their': 1246, 'them': 1247, 'them.': 1248, 'then': 1249, 'then,': 1250, 'there': 1251, \"there's\": 1252, 'there,': 1253, 'therefore': 1254, 'they': 1255, \"they're\": 1256, 'thin': 1257, 'thing': 1258, 'thing.': 1259, 'things': 1260, 'things.': 1261, 'things?': 1262, 'think': 1263, 'this': 1264, 'thither': 1265, 'those': 1266, 'though': 1267, 'thought': 1268, 'thought:': 1269, 'three': 1270, 'threshold.': 1271, 'threw': 1272, 'through': 1273, 'through,': 1274, 'throwing': 1275, 'tie': 1276, 'till': 1277, 'time': 1278, 'time,': 1279, 'timorously': 1280, 'tinge': 1281, 'tips': 1282, 'tired': 1283, 'to': 1284, 'told': 1285, 'tone': 1286, 'tone.': 1287, 'tones': 1288, 'too': 1289, 'too?': 1290, 'took': 1291, 'tottering': 1292, 'touched': 1293, 'toward': 1294, 'trace': 1295, 'trade': 1296, 'transmute': 1297, 'traps': 1298, 'traps,': 1299, 'travelled': 1300, 'tribute': 1301, 'tributes': 1302, 'tricks': 1303, 'tricks.': 1304, 'tried': 1305, 'trouser-presses': 1306, 'true.': 1307, 'truth': 1308, 'turned': 1309, 'turned,': 1310, 'twenty': 1311, 'twenty-four': 1312, 'twice,': 1313, 'twirling': 1314, 'unaccountable': 1315, 'uncertain.': 1316, 'under': 1317, 'under,': 1318, 'underlay': 1319, 'underneath.': 1320, 'understand': 1321, 'understand,': 1322, 'unexpected': 1323, 'untouched.': 1324, 'unusual': 1325, 'up': 1326, 'up\"': 1327, 'up,': 1328, 'up-stream': 1329, 'up.': 1330, 'up;': 1331, 'upon': 1332, 'upset': 1333, 'upstairs.\"': 1334, 'us': 1335, 'us!\"': 1336, 'used': 1337, 'usual': 1338, 'value': 1339, 'varnishing': 1340, 'vases': 1341, 'veins,': 1342, 'velveteen': 1343, 'very': 1344, 'villa': 1345, 'vindicated': 1346, 'virtuosity.': 1347, 'vista': 1348, 'vista.': 1349, 'vocation': 1350, 'voice': 1351, 'wall': 1352, 'wall.': 1353, 'wander': 1354, 'want': 1355, 'wanted': 1356, 'wants': 1357, 'was': 1358, 'was,': 1359, 'was.': 1360, \"wasn't\": 1361, 'watched': 1362, 'watching': 1363, 'watching,': 1364, 'water-colour': 1365, 'waves': 1366, 'way': 1367, 'weekly': 1368, \"weeks'\": 1369, 'weeks,': 1370, 'welcome': 1371, 'went': 1372, 'were': 1373, 'were,': 1374, 'what': 1375, 'when': 1376, 'when,': 1377, 'whenever': 1378, 'where': 1379, 'which': 1380, 'which,': 1381, 'while': 1382, 'white': 1383, 'white-panelled': 1384, 'who': 1385, 'who,': 1386, 'whole': 1387, 'whom': 1388, 'why': 1389, 'why.': 1390, 'wide': 1391, 'widow,': 1392, 'wife': 1393, 'wife!': 1394, \"wife's\": 1395, 'wild': 1396, 'wincing': 1397, 'wincing;': 1398, 'window-curtains,': 1399, 'wish': 1400, 'with': 1401, 'without': 1402, \"wits'\": 1403, 'woman': 1404, 'woman!': 1405, 'women': 1406, 'women:': 1407, \"won't\": 1408, 'wonder': 1409, 'wonder!': 1410, 'wondered': 1411, 'word,': 1412, 'word.': 1413, 'work': 1414, 'work!\"': 1415, 'work,': 1416, 'work.': 1417, 'work.\"': 1418, 'working?': 1419, 'worth': 1420, 'would': 1421, \"wouldn't\": 1422, 'year': 1423, 'years': 1424, 'yellow': 1425, 'yet': 1426, 'yet,': 1427, 'you': 1428, \"you'd\": 1429, \"you're\": 1430, 'you?\"': 1431, 'younger': 1432, 'your': 1433, 'yourself': 1434}\n"
          ]
        }
      ]
    },
    {
      "cell_type": "markdown",
      "source": [
        "\n",
        "*   Creating Class\n",
        "*   Converting token to token IDs\n",
        "*   Converting token IDs to text\n",
        "\n"
      ],
      "metadata": {
        "id": "A4JZKIoA4yPX"
      }
    },
    {
      "cell_type": "code",
      "source": [
        "class tokens_encode_decode:\n",
        "  def __init__(self, vocab):\n",
        "    self.str_2_int = vocab # this vocab is a dictionary in the form of tokens : index\n",
        "    self.int_2_str = {index:token for token,index in vocab.items()}\n",
        "  def encode(self, text):\n",
        "    pre_pro = re.split(r'([,.:;\"\\'()]|--|\\s)', text)\n",
        "    pre_pro = [item.strip() for item in pre_pro if item.strip()]\n",
        "    ids  = [self.str_2_int[index] for index in pre_pro]\n",
        "    return ids\n",
        "  def decode(self, ids):\n",
        "    text = \" \".join([self.int_2_str[token] for token in ids])\n",
        "    text = re.sub(r'([,.;:\\'?\"!]|--|\\s)',r'\\1',text)\n",
        "    return text\n",
        "\n"
      ],
      "metadata": {
        "id": "efZxq9MD059P"
      },
      "execution_count": 18,
      "outputs": []
    },
    {
      "cell_type": "code",
      "source": [
        "sol = tokens_encode_decode(vocab)\n",
        "\n",
        "txt = \"Chicago is a  place to\"\n",
        "ids = sol.encode(txt)\n",
        "print(ids)\n"
      ],
      "metadata": {
        "id": "cM7B5CK_05_E",
        "colab": {
          "base_uri": "https://localhost:8080/"
        },
        "outputId": "238451db-e52d-4e13-907e-15fdeae8f363"
      },
      "execution_count": 19,
      "outputs": [
        {
          "output_type": "stream",
          "name": "stdout",
          "text": [
            "[81, 752, 205, 1003, 1284]\n"
          ]
        }
      ]
    },
    {
      "cell_type": "code",
      "source": [
        "back_to_text = sol.decode(ids)\n",
        "print(back_to_text)"
      ],
      "metadata": {
        "id": "Z7bBdrBW06C5",
        "colab": {
          "base_uri": "https://localhost:8080/"
        },
        "outputId": "501cff93-178f-4336-eea2-f92318eb4012"
      },
      "execution_count": 20,
      "outputs": [
        {
          "output_type": "stream",
          "name": "stdout",
          "text": [
            "Chicago is a place to\n"
          ]
        }
      ]
    },
    {
      "cell_type": "code",
      "source": [],
      "metadata": {
        "id": "BPuwuJSF06Es"
      },
      "execution_count": null,
      "outputs": []
    },
    {
      "cell_type": "code",
      "source": [],
      "metadata": {
        "id": "-lJ0eIWF06I1"
      },
      "execution_count": null,
      "outputs": []
    },
    {
      "cell_type": "code",
      "source": [],
      "metadata": {
        "id": "FC2wIiss06Ko"
      },
      "execution_count": null,
      "outputs": []
    },
    {
      "cell_type": "code",
      "source": [],
      "metadata": {
        "id": "YP4sDDxE06Or"
      },
      "execution_count": null,
      "outputs": []
    },
    {
      "cell_type": "code",
      "source": [],
      "metadata": {
        "id": "O5ynWwrT06Qb"
      },
      "execution_count": null,
      "outputs": []
    },
    {
      "cell_type": "code",
      "source": [],
      "metadata": {
        "id": "GhvtyQqI06Ue"
      },
      "execution_count": null,
      "outputs": []
    },
    {
      "cell_type": "code",
      "source": [],
      "metadata": {
        "id": "xV3ezuQC06WZ"
      },
      "execution_count": null,
      "outputs": []
    },
    {
      "cell_type": "code",
      "source": [],
      "metadata": {
        "id": "VuhoiZBm06ag"
      },
      "execution_count": null,
      "outputs": []
    },
    {
      "cell_type": "code",
      "source": [],
      "metadata": {
        "id": "48mqPv9s06cY"
      },
      "execution_count": null,
      "outputs": []
    },
    {
      "cell_type": "code",
      "source": [],
      "metadata": {
        "id": "I5dnn4wF06gk"
      },
      "execution_count": null,
      "outputs": []
    },
    {
      "cell_type": "code",
      "source": [],
      "metadata": {
        "id": "vZsn3lNH06io"
      },
      "execution_count": null,
      "outputs": []
    },
    {
      "cell_type": "code",
      "source": [],
      "metadata": {
        "id": "IK2A5nVe06mm"
      },
      "execution_count": null,
      "outputs": []
    },
    {
      "cell_type": "code",
      "source": [],
      "metadata": {
        "id": "d61w6ttv06ok"
      },
      "execution_count": null,
      "outputs": []
    },
    {
      "cell_type": "code",
      "source": [],
      "metadata": {
        "id": "0mqPOKIX06sv"
      },
      "execution_count": null,
      "outputs": []
    },
    {
      "cell_type": "code",
      "source": [],
      "metadata": {
        "id": "UqU2owjN06uq"
      },
      "execution_count": null,
      "outputs": []
    },
    {
      "cell_type": "code",
      "source": [],
      "metadata": {
        "id": "sjOazv2u06y-"
      },
      "execution_count": null,
      "outputs": []
    },
    {
      "cell_type": "code",
      "source": [],
      "metadata": {
        "id": "OQ40O-Dy061F"
      },
      "execution_count": null,
      "outputs": []
    },
    {
      "cell_type": "code",
      "source": [],
      "metadata": {
        "id": "E0PBD9AY065P"
      },
      "execution_count": null,
      "outputs": []
    },
    {
      "cell_type": "code",
      "source": [],
      "metadata": {
        "id": "ogKtQDef067K"
      },
      "execution_count": null,
      "outputs": []
    },
    {
      "cell_type": "code",
      "source": [],
      "metadata": {
        "id": "cyEIGN0T06_W"
      },
      "execution_count": null,
      "outputs": []
    },
    {
      "cell_type": "code",
      "source": [],
      "metadata": {
        "id": "Rd7yq5ZO07BU"
      },
      "execution_count": null,
      "outputs": []
    },
    {
      "cell_type": "code",
      "source": [],
      "metadata": {
        "id": "d-_mKJJf07Fm"
      },
      "execution_count": null,
      "outputs": []
    },
    {
      "cell_type": "code",
      "source": [],
      "metadata": {
        "id": "wrjqdSaR07Hq"
      },
      "execution_count": null,
      "outputs": []
    },
    {
      "cell_type": "code",
      "source": [],
      "metadata": {
        "id": "b5zHEwZf07L_"
      },
      "execution_count": null,
      "outputs": []
    },
    {
      "cell_type": "code",
      "source": [],
      "metadata": {
        "id": "0WJUaOxt07OH"
      },
      "execution_count": null,
      "outputs": []
    },
    {
      "cell_type": "code",
      "source": [],
      "metadata": {
        "id": "CQh3ELEb07SI"
      },
      "execution_count": null,
      "outputs": []
    },
    {
      "cell_type": "code",
      "source": [],
      "metadata": {
        "id": "G2Erxshn07UJ"
      },
      "execution_count": null,
      "outputs": []
    },
    {
      "cell_type": "code",
      "source": [],
      "metadata": {
        "id": "AJCOamSi07Ye"
      },
      "execution_count": null,
      "outputs": []
    },
    {
      "cell_type": "code",
      "source": [],
      "metadata": {
        "id": "FUHRHsDa07aY"
      },
      "execution_count": null,
      "outputs": []
    },
    {
      "cell_type": "code",
      "source": [],
      "metadata": {
        "id": "Rkc0wIVE07e1"
      },
      "execution_count": null,
      "outputs": []
    },
    {
      "cell_type": "code",
      "source": [],
      "metadata": {
        "id": "BH4jpwyg07gj"
      },
      "execution_count": null,
      "outputs": []
    },
    {
      "cell_type": "code",
      "source": [],
      "metadata": {
        "id": "zU3Y84g107lF"
      },
      "execution_count": null,
      "outputs": []
    },
    {
      "cell_type": "code",
      "source": [],
      "metadata": {
        "id": "ezRUICqY07nD"
      },
      "execution_count": null,
      "outputs": []
    },
    {
      "cell_type": "code",
      "source": [],
      "metadata": {
        "id": "tY0LjveK07rV"
      },
      "execution_count": null,
      "outputs": []
    },
    {
      "cell_type": "code",
      "source": [],
      "metadata": {
        "id": "LO9NKZhh07tU"
      },
      "execution_count": null,
      "outputs": []
    },
    {
      "cell_type": "code",
      "source": [],
      "metadata": {
        "id": "DN2l0L6l07xY"
      },
      "execution_count": null,
      "outputs": []
    },
    {
      "cell_type": "code",
      "source": [],
      "metadata": {
        "id": "lpyiul_o07za"
      },
      "execution_count": null,
      "outputs": []
    },
    {
      "cell_type": "code",
      "source": [],
      "metadata": {
        "id": "JdN9kb3P0731"
      },
      "execution_count": null,
      "outputs": []
    },
    {
      "cell_type": "code",
      "source": [],
      "metadata": {
        "id": "wT6tmJ39075k"
      },
      "execution_count": null,
      "outputs": []
    },
    {
      "cell_type": "code",
      "source": [],
      "metadata": {
        "id": "KLaeNeta079n"
      },
      "execution_count": null,
      "outputs": []
    },
    {
      "cell_type": "code",
      "source": [],
      "metadata": {
        "id": "htX16LIO07_j"
      },
      "execution_count": null,
      "outputs": []
    },
    {
      "cell_type": "code",
      "source": [],
      "metadata": {
        "id": "GFWOAmJQ08Df"
      },
      "execution_count": null,
      "outputs": []
    },
    {
      "cell_type": "code",
      "source": [],
      "metadata": {
        "id": "-X_4LaZ508Fj"
      },
      "execution_count": null,
      "outputs": []
    },
    {
      "cell_type": "code",
      "source": [],
      "metadata": {
        "id": "_ALPX6cG08Jg"
      },
      "execution_count": null,
      "outputs": []
    },
    {
      "cell_type": "code",
      "source": [],
      "metadata": {
        "id": "GDNzWFNo08Li"
      },
      "execution_count": null,
      "outputs": []
    },
    {
      "cell_type": "code",
      "source": [],
      "metadata": {
        "id": "Q0IhI4ay08PR"
      },
      "execution_count": null,
      "outputs": []
    },
    {
      "cell_type": "code",
      "source": [],
      "metadata": {
        "id": "55ltW1PF08RO"
      },
      "execution_count": null,
      "outputs": []
    },
    {
      "cell_type": "code",
      "source": [],
      "metadata": {
        "id": "IKf8zJLM08Uc"
      },
      "execution_count": null,
      "outputs": []
    },
    {
      "cell_type": "code",
      "source": [],
      "metadata": {
        "id": "SHOtLPiP08Wa"
      },
      "execution_count": null,
      "outputs": []
    },
    {
      "cell_type": "code",
      "source": [],
      "metadata": {
        "id": "lppQsxhm08Zw"
      },
      "execution_count": null,
      "outputs": []
    },
    {
      "cell_type": "code",
      "source": [],
      "metadata": {
        "id": "m9WND_Es08bl"
      },
      "execution_count": null,
      "outputs": []
    },
    {
      "cell_type": "code",
      "source": [],
      "metadata": {
        "id": "p9Lt-QX208fI"
      },
      "execution_count": null,
      "outputs": []
    }
  ]
}